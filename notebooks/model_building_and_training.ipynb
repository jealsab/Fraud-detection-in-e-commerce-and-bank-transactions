{
  "cells": [
    {
      "cell_type": "code",
      "execution_count": 40,
      "metadata": {
        "id": "6kdjK1YC0xvW"
      },
      "outputs": [],
      "source": [
        "import pandas as pd\n",
        "from sklearn.model_selection import train_test_split\n",
        "from sklearn.linear_model import LogisticRegression\n",
        "from sklearn.tree import DecisionTreeClassifier\n",
        "from sklearn.ensemble import RandomForestClassifier, GradientBoostingClassifier\n",
        "from sklearn.neural_network import MLPClassifier\n",
        "from sklearn.metrics import classification_report, accuracy_score\n",
        "import mlflow\n",
        "import mlflow.sklearn\n",
        "from sklearn.preprocessing import StandardScaler\n",
        "from sklearn.impute import SimpleImputer\n",
        "import numpy as np\n",
        "from scipy import sparse\n",
        "import joblib\n",
        "import os\n",
        "import logging\n",
        "\n",
        "# Configure logger\n",
        "logging.basicConfig(level=logging.DEBUG, format='%(asctime)s - %(levelname)s - %(message)s')\n",
        "logger = logging.getLogger()\n",
        "\n",
        "# Set MLflow tracking URI\n",
        "mlflow.set_tracking_uri(\"file:///mlruns\")\n",
        "\n",
        "# Set MLflow experiment\n",
        "mlflow.set_experiment(\"Fraud and Credit Card Detection\")\n",
        "\n",
        "# Create directories if not exist\n",
        "os.makedirs('models/fraud', exist_ok=True)\n",
        "os.makedirs('models/credit', exist_ok=True)\n",
        "\n",
        "logger.info(\"Directories created for saving models\")\n",
        "\n",
        "# Load processed data\n",
        "fraud_data = pd.read_csv('processed_fraud_data_with_country.csv')\n",
        "credit_card_data = pd.read_csv('processed_credit_card_data.csv')\n",
        "\n",
        "# Ensure datetime columns are correctly parsed\n",
        "fraud_data['signup_time'] = pd.to_datetime(fraud_data['signup_time'])\n",
        "fraud_data['purchase_time'] = pd.to_datetime(fraud_data['purchase_time'])\n",
        "\n",
        "# Feature Engineering for fraud_data\n",
        "fraud_data['signup_hour'] = fraud_data['signup_time'].dt.hour\n",
        "fraud_data['signup_day'] = fraud_data['signup_time'].dt.day\n",
        "fraud_data['signup_month'] = fraud_data['signup_time'].dt.month\n",
        "fraud_data['signup_year'] = fraud_data['signup_time'].dt.year\n",
        "\n",
        "fraud_data['purchase_hour'] = fraud_data['purchase_time'].dt.hour\n",
        "fraud_data['purchase_day'] = fraud_data['purchase_time'].dt.day\n",
        "fraud_data['purchase_month'] = fraud_data['purchase_time'].dt.month\n",
        "fraud_data['purchase_year'] = fraud_data['purchase_time'].dt.year\n",
        "\n",
        "# Drop original datetime columns\n",
        "fraud_data = fraud_data.drop(columns=['signup_time', 'purchase_time'])\n",
        "\n",
        "# Identify categorical columns\n",
        "categorical_columns = fraud_data.select_dtypes(include=['object']).columns.tolist()\n",
        "\n",
        "# Frequency Encoding of categorical features\n",
        "for col in categorical_columns:\n",
        "    freq_encoding = fraud_data[col].value_counts().to_dict()\n",
        "    fraud_data[col] = fraud_data[col].map(freq_encoding)\n",
        "\n",
        "# Convert data types to more memory efficient types\n",
        "for col in fraud_data.select_dtypes(include=['int64']).columns:\n",
        "    fraud_data[col] = fraud_data[col].astype('int32')\n",
        "for col in fraud_data.select_dtypes(include=['float64']).columns:\n",
        "    fraud_data[col] = fraud_data[col].astype('float32')\n",
        "\n",
        "# Feature and target separation for fraud detection data\n",
        "X_fraud = fraud_data.drop(columns=['class'])\n",
        "y_fraud = fraud_data['class']\n",
        "\n",
        "# Feature and target separation for credit card data\n",
        "X_credit = credit_card_data.drop(columns=['Class'])\n",
        "y_credit = credit_card_data['Class']\n",
        "\n",
        "# Handle missing values in features\n",
        "imputer = SimpleImputer(strategy='mean')\n",
        "X_fraud = imputer.fit_transform(X_fraud)\n",
        "X_credit = imputer.fit_transform(X_credit)\n",
        "\n",
        "# Convert X_fraud to a sparse matrix\n",
        "X_fraud_sparse = sparse.csr_matrix(X_fraud)\n",
        "\n",
        "# Handle missing values in target variables\n",
        "y_fraud = y_fraud.fillna(y_fraud.mode()[0])\n",
        "y_credit = y_credit.fillna(y_credit.mode()[0])\n",
        "\n",
        "# Train-test split for fraud data\n",
        "X_train_fraud, X_test_fraud, y_train_fraud, y_test_fraud = train_test_split(X_fraud_sparse, y_fraud, test_size=0.2, random_state=42)\n",
        "\n",
        "# Train-test split for credit card data\n",
        "X_train_credit, X_test_credit, y_train_credit, y_test_credit = train_test_split(X_credit, y_credit, test_size=0.2, random_state=42)"
      ]
    },
    {
      "cell_type": "code",
      "execution_count": 41,
      "metadata": {
        "colab": {
          "base_uri": "https://localhost:8080/"
        },
        "id": "goRv0jBM2Smg",
        "outputId": "604b4a82-cca0-4dcb-e72d-7988ab1bd048"
      },
      "outputs": [
        {
          "name": "stderr",
          "output_type": "stream",
          "text": [
            "\u001b[31m2025/02/06 15:21:00 WARNING mlflow.models.model: Model logged without a signature and input example. Please set `input_example` parameter when logging the model to auto infer the model signature.\u001b[0m\n",
            "/usr/local/lib/python3.11/dist-packages/sklearn/metrics/_classification.py:1565: UndefinedMetricWarning: Precision is ill-defined and being set to 0.0 in labels with no predicted samples. Use `zero_division` parameter to control this behavior.\n",
            "  _warn_prf(average, modifier, f\"{metric.capitalize()} is\", len(result))\n",
            "/usr/local/lib/python3.11/dist-packages/sklearn/metrics/_classification.py:1565: UndefinedMetricWarning: Precision is ill-defined and being set to 0.0 in labels with no predicted samples. Use `zero_division` parameter to control this behavior.\n",
            "  _warn_prf(average, modifier, f\"{metric.capitalize()} is\", len(result))\n",
            "/usr/local/lib/python3.11/dist-packages/sklearn/metrics/_classification.py:1565: UndefinedMetricWarning: Precision is ill-defined and being set to 0.0 in labels with no predicted samples. Use `zero_division` parameter to control this behavior.\n",
            "  _warn_prf(average, modifier, f\"{metric.capitalize()} is\", len(result))\n"
          ]
        },
        {
          "name": "stdout",
          "output_type": "stream",
          "text": [
            "Model: Logistic Regression\n",
            "Accuracy: 0.9057009562253913\n",
            "              precision    recall  f1-score   support\n",
            "\n",
            "           0       0.91      1.00      0.95     27373\n",
            "           1       0.00      0.00      0.00      2850\n",
            "\n",
            "    accuracy                           0.91     30223\n",
            "   macro avg       0.45      0.50      0.48     30223\n",
            "weighted avg       0.82      0.91      0.86     30223\n",
            "\n",
            "============================================================\n"
          ]
        },
        {
          "name": "stderr",
          "output_type": "stream",
          "text": [
            "\u001b[31m2025/02/06 15:21:20 WARNING mlflow.models.model: Model logged without a signature and input example. Please set `input_example` parameter when logging the model to auto infer the model signature.\u001b[0m\n"
          ]
        },
        {
          "name": "stdout",
          "output_type": "stream",
          "text": [
            "Model: Decision Tree\n",
            "Accuracy: 0.9112265493167455\n",
            "              precision    recall  f1-score   support\n",
            "\n",
            "           0       0.96      0.94      0.95     27373\n",
            "           1       0.53      0.59      0.56      2850\n",
            "\n",
            "    accuracy                           0.91     30223\n",
            "   macro avg       0.74      0.77      0.75     30223\n",
            "weighted avg       0.92      0.91      0.91     30223\n",
            "\n",
            "============================================================\n"
          ]
        },
        {
          "name": "stderr",
          "output_type": "stream",
          "text": [
            "\u001b[31m2025/02/06 15:26:18 WARNING mlflow.models.model: Model logged without a signature and input example. Please set `input_example` parameter when logging the model to auto infer the model signature.\u001b[0m\n"
          ]
        },
        {
          "name": "stdout",
          "output_type": "stream",
          "text": [
            "Model: Random Forest\n",
            "Accuracy: 0.9564900903285577\n",
            "              precision    recall  f1-score   support\n",
            "\n",
            "           0       0.95      1.00      0.98     27373\n",
            "           1       1.00      0.54      0.70      2850\n",
            "\n",
            "    accuracy                           0.96     30223\n",
            "   macro avg       0.98      0.77      0.84     30223\n",
            "weighted avg       0.96      0.96      0.95     30223\n",
            "\n",
            "============================================================\n"
          ]
        },
        {
          "name": "stderr",
          "output_type": "stream",
          "text": [
            "\u001b[31m2025/02/06 15:27:23 WARNING mlflow.models.model: Model logged without a signature and input example. Please set `input_example` parameter when logging the model to auto infer the model signature.\u001b[0m\n"
          ]
        },
        {
          "name": "stdout",
          "output_type": "stream",
          "text": [
            "Model: Gradient Boosting\n",
            "Accuracy: 0.956390828177216\n",
            "              precision    recall  f1-score   support\n",
            "\n",
            "           0       0.95      1.00      0.98     27373\n",
            "           1       1.00      0.54      0.70      2850\n",
            "\n",
            "    accuracy                           0.96     30223\n",
            "   macro avg       0.98      0.77      0.84     30223\n",
            "weighted avg       0.96      0.96      0.95     30223\n",
            "\n",
            "============================================================\n"
          ]
        },
        {
          "name": "stderr",
          "output_type": "stream",
          "text": [
            "\u001b[31m2025/02/06 15:27:46 WARNING mlflow.models.model: Model logged without a signature and input example. Please set `input_example` parameter when logging the model to auto infer the model signature.\u001b[0m\n"
          ]
        },
        {
          "name": "stdout",
          "output_type": "stream",
          "text": [
            "Model: MLP\n",
            "Accuracy: 0.9050722959335605\n",
            "              precision    recall  f1-score   support\n",
            "\n",
            "           0       0.91      1.00      0.95     27373\n",
            "           1       0.43      0.02      0.04      2850\n",
            "\n",
            "    accuracy                           0.91     30223\n",
            "   macro avg       0.67      0.51      0.49     30223\n",
            "weighted avg       0.86      0.91      0.86     30223\n",
            "\n",
            "============================================================\n"
          ]
        },
        {
          "name": "stderr",
          "output_type": "stream",
          "text": [
            "/usr/local/lib/python3.11/dist-packages/sklearn/linear_model/_logistic.py:465: ConvergenceWarning: lbfgs failed to converge (status=1):\n",
            "STOP: TOTAL NO. of ITERATIONS REACHED LIMIT.\n",
            "\n",
            "Increase the number of iterations (max_iter) or scale the data as shown in:\n",
            "    https://scikit-learn.org/stable/modules/preprocessing.html\n",
            "Please also refer to the documentation for alternative solver options:\n",
            "    https://scikit-learn.org/stable/modules/linear_model.html#logistic-regression\n",
            "  n_iter_i = _check_optimize_result(\n",
            "\u001b[31m2025/02/06 15:28:26 WARNING mlflow.models.model: Model logged without a signature and input example. Please set `input_example` parameter when logging the model to auto infer the model signature.\u001b[0m\n"
          ]
        },
        {
          "name": "stdout",
          "output_type": "stream",
          "text": [
            "Model: Logistic Regression\n",
            "Accuracy: 0.9991012582384662\n",
            "              precision    recall  f1-score   support\n",
            "\n",
            "           0       1.00      1.00      1.00     56656\n",
            "           1       0.85      0.52      0.65        90\n",
            "\n",
            "    accuracy                           1.00     56746\n",
            "   macro avg       0.93      0.76      0.82     56746\n",
            "weighted avg       1.00      1.00      1.00     56746\n",
            "\n",
            "============================================================\n"
          ]
        },
        {
          "name": "stderr",
          "output_type": "stream",
          "text": [
            "\u001b[31m2025/02/06 15:29:05 WARNING mlflow.models.model: Model logged without a signature and input example. Please set `input_example` parameter when logging the model to auto infer the model signature.\u001b[0m\n"
          ]
        },
        {
          "name": "stdout",
          "output_type": "stream",
          "text": [
            "Model: Decision Tree\n",
            "Accuracy: 0.9990131463010609\n",
            "              precision    recall  f1-score   support\n",
            "\n",
            "           0       1.00      1.00      1.00     56656\n",
            "           1       0.67      0.73      0.70        90\n",
            "\n",
            "    accuracy                           1.00     56746\n",
            "   macro avg       0.84      0.87      0.85     56746\n",
            "weighted avg       1.00      1.00      1.00     56746\n",
            "\n",
            "============================================================\n"
          ]
        },
        {
          "name": "stderr",
          "output_type": "stream",
          "text": [
            "\u001b[31m2025/02/06 15:34:15 WARNING mlflow.models.model: Model logged without a signature and input example. Please set `input_example` parameter when logging the model to auto infer the model signature.\u001b[0m\n"
          ]
        },
        {
          "name": "stdout",
          "output_type": "stream",
          "text": [
            "Model: Random Forest\n",
            "Accuracy: 0.9995594403129736\n",
            "              precision    recall  f1-score   support\n",
            "\n",
            "           0       1.00      1.00      1.00     56656\n",
            "           1       0.99      0.73      0.84        90\n",
            "\n",
            "    accuracy                           1.00     56746\n",
            "   macro avg       0.99      0.87      0.92     56746\n",
            "weighted avg       1.00      1.00      1.00     56746\n",
            "\n",
            "============================================================\n"
          ]
        },
        {
          "name": "stderr",
          "output_type": "stream",
          "text": [
            "\u001b[31m2025/02/06 15:42:54 WARNING mlflow.models.model: Model logged without a signature and input example. Please set `input_example` parameter when logging the model to auto infer the model signature.\u001b[0m\n"
          ]
        },
        {
          "name": "stdout",
          "output_type": "stream",
          "text": [
            "Model: Gradient Boosting\n",
            "Accuracy: 0.9992951045007578\n",
            "              precision    recall  f1-score   support\n",
            "\n",
            "           0       1.00      1.00      1.00     56656\n",
            "           1       0.89      0.63      0.74        90\n",
            "\n",
            "    accuracy                           1.00     56746\n",
            "   macro avg       0.95      0.82      0.87     56746\n",
            "weighted avg       1.00      1.00      1.00     56746\n",
            "\n",
            "============================================================\n"
          ]
        },
        {
          "name": "stderr",
          "output_type": "stream",
          "text": [
            "\u001b[31m2025/02/06 15:44:36 WARNING mlflow.models.model: Model logged without a signature and input example. Please set `input_example` parameter when logging the model to auto infer the model signature.\u001b[0m\n"
          ]
        },
        {
          "name": "stdout",
          "output_type": "stream",
          "text": [
            "Model: MLP\n",
            "Accuracy: 0.9982201388644133\n",
            "              precision    recall  f1-score   support\n",
            "\n",
            "           0       1.00      1.00      1.00     56656\n",
            "           1       0.46      0.78      0.58        90\n",
            "\n",
            "    accuracy                           1.00     56746\n",
            "   macro avg       0.73      0.89      0.79     56746\n",
            "weighted avg       1.00      1.00      1.00     56746\n",
            "\n",
            "============================================================\n"
          ]
        }
      ],
      "source": [
        "\n",
        "# Initialize models\n",
        "models = {\n",
        "    'Logistic Regression': LogisticRegression(max_iter=1000),\n",
        "    'Decision Tree': DecisionTreeClassifier(),\n",
        "    'Random Forest': RandomForestClassifier(),\n",
        "    'Gradient Boosting': GradientBoostingClassifier(),\n",
        "    'MLP': MLPClassifier(max_iter=1000)\n",
        "}\n",
        "\n",
        "# Function to train and evaluate models\n",
        "def train_and_evaluate_model(model, X_train, y_train, X_test, y_test, dataset_name, model_name):\n",
        "    with mlflow.start_run(run_name=f'{model_name} on {dataset_name}'):\n",
        "        model.fit(X_train, y_train)\n",
        "        y_pred = model.predict(X_test)\n",
        "        accuracy = accuracy_score(y_test, y_pred)\n",
        "\n",
        "        # Log parameters and metrics\n",
        "        mlflow.log_params({\n",
        "            'model': model_name,\n",
        "            'dataset': dataset_name,\n",
        "            'test_size': 0.2,\n",
        "            'random_state': 42\n",
        "        })\n",
        "        mlflow.log_metric('accuracy', accuracy)\n",
        "\n",
        "        # Save the model with mlflow\n",
        "        mlflow.sklearn.log_model(model, f'{model_name}_model')\n",
        "\n",
        "        # Form path without spaces\n",
        "        dataset_path = dataset_name.lower().replace(' ', '_')\n",
        "        model_path = model_name.lower().replace(' ', '_').replace(' ', '_')\n",
        "        local_model_path = f\"models/{dataset_path}/{model_path}_model.joblib\"\n",
        "\n",
        "        # Ensure directory exists\n",
        "        os.makedirs(f\"models/{dataset_path}\", exist_ok=True)\n",
        "        joblib.dump(model, local_model_path)\n",
        "        logger.info(f\"Model {model_name} for {dataset_name} saved to {local_model_path}\")\n",
        "\n",
        "        # Print and log classification report\n",
        "        report = classification_report(y_test, y_pred)\n",
        "        logger.info(f\"Model: {model_name} on {dataset_name}\")\n",
        "        logger.info(f\"Accuracy: {accuracy}\")\n",
        "        logger.info(report)\n",
        "        print(f\"Model: {model_name}\")\n",
        "        print(f\"Accuracy: {accuracy}\")\n",
        "        print(report)\n",
        "        print(\"=\"*60)\n",
        "\n",
        "# Train and evaluate models for fraud detection data\n",
        "for name, model in models.items():\n",
        "    train_and_evaluate_model(model, X_train_fraud, y_train_fraud, X_test_fraud, y_test_fraud, 'Fraud Data', name)\n",
        "\n",
        "# Train and evaluate models for credit card data\n",
        "for name, model in models.items():\n",
        "    train_and_evaluate_model(model, X_train_credit, y_train_credit, X_test_credit, y_test_credit, 'Credit Card Data', name)"
      ]
    }
  ],
  "metadata": {
    "colab": {
      "provenance": []
    },
    "kernelspec": {
      "display_name": ".venv",
      "language": "python",
      "name": "python3"
    },
    "language_info": {
      "codemirror_mode": {
        "name": "ipython",
        "version": 3
      },
      "file_extension": ".py",
      "mimetype": "text/x-python",
      "name": "python",
      "nbconvert_exporter": "python",
      "pygments_lexer": "ipython3",
      "version": "3.12.2"
    }
  },
  "nbformat": 4,
  "nbformat_minor": 0
}
